{
 "cells": [
  {
   "cell_type": "markdown",
   "metadata": {},
   "source": [
    "<center> <h2> DS 3000 - Fall 2020</h2> </center>\n",
    "<center> <h3> DS Report </h3> </center>\n"
   ]
  },
  {
   "cell_type": "markdown",
   "metadata": {},
   "source": [
    "<center> <h3> Calculating Startup Funding</h3> </center>\n",
    "<center><h4>Breanna Madison, Kelley Phippen, Thomas Greenwald</h4></center>\n"
   ]
  },
  {
   "cell_type": "markdown",
   "metadata": {},
   "source": [
    "  "
   ]
  },
  {
   "cell_type": "markdown",
   "metadata": {},
   "source": [
    "<hr style=\"height:2px; border:none; color:black; background-color:black;\">"
   ]
  },
  {
   "cell_type": "markdown",
   "metadata": {},
   "source": [
    "#### Executive Summary:\n",
    "\n",
    "\n",
    "For this project, we decided to analyze a portion of Crunchbase's start-up data to see if we could use some of the columns as predictors for how much total funding a start-up would secure. Seeing that start-ups make up the future of business, we tohught this would be an intersting project that could possibly accelerate the start-up valuation process. \n",
    "\n",
    "We found this data source at [Kaggle](https://www.kaggle.com/arindam235/startup-investments-crunchbase) and it represents a condensed version of Crunchbase's CSV dump. We chose to drop a handful of columns that we didn't feel would be relevent to our hypothesis. \n",
    "\n",
    "After that we did some data cleaning where we dropped all coumns that had NA values or non-numerical values in the funding_total_usd column. At the end of that we had 12 columns in our data set. 11 of them would be our features and the last was our target variable, funding_total. During the preprocessing phase we used a Label Encoder for our catagorial data and a Standard Scaler to scale our numeical data in order to normalize them. Using RFE we figured out that the following were the best features for our model: `['country_code', 'founded_month', 'founded_year', 'seed', 'venture', 'round_B']`\n",
    "\n",
    "In the Data Exploration section we visually explored the effect that our key features in the above section had on our target variable. The first three visualizatons compare `country_code`, `founded_year`, and `seed` to `funding_total`. Looking at all of them we were unable to see a visual impact any of them had on the target variable. \n",
    "\n",
    "For our models we used Linear Regression, Lasso, Ridge, Decision Tree Regression, and Linear SVR.After running them all on our test set, the Decision Tree Regression model was the only one that preformed well on our training set. When hyptertuning the parameters of our models, again they did not perform well on our testing set. \n",
    "\n",
    "To conclude, based on the tests the features we have chosen from our data set did not do a good job at predicting the total funding a start up would raise. Thus, we were unable to reject our null hypothesis of \"The 11 feature variables (market, country_code, region, funding_rounds, founded_month, founded_quarter, founded_year, seed, venture, round_a, round_b) will NOT have an effect on predicting the total funding amount a startup raises\".\n"
   ]
  },
  {
   "cell_type": "markdown",
   "metadata": {},
   "source": [
    "<hr style=\"height:2px; border:none; color:black; background-color:black;\">"
   ]
  },
  {
   "cell_type": "markdown",
   "metadata": {},
   "source": [
    "## Outline\n",
    "1. <a href='#1'>INTRODUCTION</a>\n",
    "2. <a href='#2'>METHOD</a>\n",
    "3. <a href='#3'>RESULTS</a>\n",
    "4. <a href='#4'>DISCUSSION</a>"
   ]
  },
  {
   "cell_type": "markdown",
   "metadata": {},
   "source": [
    "<a id=\"1\"></a>\n",
    "<hr style=\"height:2px; border:none; color:black; background-color:black;\">"
   ]
  },
  {
   "cell_type": "markdown",
   "metadata": {},
   "source": [
    "## 1. INTRODUCTION"
   ]
  },
  {
   "cell_type": "markdown",
   "metadata": {},
   "source": [
    "### Problem Statement\n",
    "\n",
    "Finding startups is not difficult, but finding great startups is an extremely challenging task. There's the famously thrown around statistic which states that 9 out of 10 startups will fail. While it’s debated how much validity there is to that statement, one thing is for sure, operating a successful startup is HARD. Startups require lots of money to get off the ground and get moving, but investing money in businesses where most fail is a very risky endeavor. This is usually the onus of angel investors and venture capital (VC) firms, who frequently invest in early stage startups. To make this sort of risky investment requires a lot of effort to source potential winners, and conduct due diligence on them to evaluate the opportunity. We want to help make sourcing startups and evaluating them easier and more intelligent, by creating an assortment of machine learning classifiers and predictors. These classifiers will help group potential startups by their market and product fit, and evaluate them based on common traits of those groups. We seek to be able to predict quantifiable attributes of successful startups, like the potential for capital investments. At the end of the day, we want to learn what makes a winner, or even better, a unicorn. \n",
    "\n",
    "### Significance of the Problem\n",
    "\n",
    "Without startups, we would not have companies pushing the boundaries of technology and innovation. We would have no AirBnB, no Instagram, no Uber, no SpaceX, no Tesla. Startups are where new ideas are born, new industries are created, and new markets that we didn’t even know existed yet. Fostering this sort of innovative ecosystem that drives the world forward is an extremely important, not to mention profitable, endeavor. Oftentimes angels and VC firms can make hundreds of times their investment if the company ends up with a big valuation, creating lots of financial incentive to intelligently source startups. In addition, sourcing is mostly a manual process right now, researching startups on newsletters, going to conferences, reaching out to founders on LinkedIn. If there was a tool that helped automate a lot of this work, and narrow down the amount of companies that needed due diligence, it would be a tremendous help to angels and VCs. Oftentimes there will be thousands of potential startups that angels and VCs need to group and explore, and it takes hours and hours of human labor. With our classifiers and predictors it will cut this time down tremendously, allowing them to focus on what matters, the winners. \n",
    "\n",
    "### Questions/Hypothesis\n",
    "\n",
    "- How can we use various metrics such as market, region, founding month, etc. to predict how much total funding a startup will raise?\n",
    " \n",
    "- Can we use linear regression and the aforementioned metrics to make a prediction on funding?\n",
    "\n",
    "- Can we determine whether Ridge or Lasso regularization will result in a better linear regression model?\n",
    "\n",
    "- H0: The 11 feature variables (market, country_code, region, funding_rounds, founded_month, founded_quarter, founded_year, seed, venture, round_a, round_b) will NOT have an effect on predicting the total funding amount a startup raises. \n",
    "\n",
    "- H1: The 11 feature variables (market, country_code, region, funding_rounds, founded_month, founded_quarter, founded_year, seed, venture, round_a, round_b) will have an effect on predicting the total funding amount a startup raises. "
   ]
  },
  {
   "cell_type": "markdown",
   "metadata": {},
   "source": [
    "<a id=\"2\"></a>\n",
    "<hr style=\"height:2px; border:none; color:black; background-color:black;\">"
   ]
  },
  {
   "cell_type": "code",
   "execution_count": 16,
   "metadata": {},
   "outputs": [],
   "source": [
    "import numpy as np\n",
    "import pandas as pd\n",
    "from sklearn.preprocessing import StandardScaler, LabelEncoder\n",
    "from sklearn.model_selection import train_test_split\n",
    "from sklearn.feature_selection import RFE\n",
    "from sklearn.tree import DecisionTreeRegressor\n",
    "pd.options.mode.chained_assignment = None"
   ]
  },
  {
   "cell_type": "markdown",
   "metadata": {},
   "source": [
    "## 2. METHOD"
   ]
  },
  {
   "cell_type": "markdown",
   "metadata": {},
   "source": [
    "### 2.1. Data Acquisition\n",
    "\n",
    "We obtained this data set from an online source called Kaggle. The link can be found here:https://www.kaggle.com/arindam235/startup-investments-crunchbase. This dataset is a condensed version of Crunchbase’s csv dump. It has 49,438 rows and 39 raw columns (38 feature variables and 1 target)."
   ]
  },
  {
   "cell_type": "code",
   "execution_count": 17,
   "metadata": {},
   "outputs": [
    {
     "data": {
      "text/html": [
       "<div>\n",
       "<style scoped>\n",
       "    .dataframe tbody tr th:only-of-type {\n",
       "        vertical-align: middle;\n",
       "    }\n",
       "\n",
       "    .dataframe tbody tr th {\n",
       "        vertical-align: top;\n",
       "    }\n",
       "\n",
       "    .dataframe thead th {\n",
       "        text-align: right;\n",
       "    }\n",
       "</style>\n",
       "<table border=\"1\" class=\"dataframe\">\n",
       "  <thead>\n",
       "    <tr style=\"text-align: right;\">\n",
       "      <th></th>\n",
       "      <th>permalink</th>\n",
       "      <th>name</th>\n",
       "      <th>homepage_url</th>\n",
       "      <th>category_list</th>\n",
       "      <th>market</th>\n",
       "      <th>funding_total_usd</th>\n",
       "      <th>status</th>\n",
       "      <th>country_code</th>\n",
       "      <th>state_code</th>\n",
       "      <th>region</th>\n",
       "      <th>...</th>\n",
       "      <th>secondary_market</th>\n",
       "      <th>product_crowdfunding</th>\n",
       "      <th>round_A</th>\n",
       "      <th>round_B</th>\n",
       "      <th>round_C</th>\n",
       "      <th>round_D</th>\n",
       "      <th>round_E</th>\n",
       "      <th>round_F</th>\n",
       "      <th>round_G</th>\n",
       "      <th>round_H</th>\n",
       "    </tr>\n",
       "  </thead>\n",
       "  <tbody>\n",
       "    <tr>\n",
       "      <th>0</th>\n",
       "      <td>/organization/waywire</td>\n",
       "      <td>#waywire</td>\n",
       "      <td>http://www.waywire.com</td>\n",
       "      <td>|Entertainment|Politics|Social Media|News|</td>\n",
       "      <td>News</td>\n",
       "      <td>17,50,000</td>\n",
       "      <td>acquired</td>\n",
       "      <td>USA</td>\n",
       "      <td>NY</td>\n",
       "      <td>New York City</td>\n",
       "      <td>...</td>\n",
       "      <td>0.0</td>\n",
       "      <td>0.0</td>\n",
       "      <td>0.0</td>\n",
       "      <td>0.0</td>\n",
       "      <td>0.0</td>\n",
       "      <td>0.0</td>\n",
       "      <td>0.0</td>\n",
       "      <td>0.0</td>\n",
       "      <td>0.0</td>\n",
       "      <td>0.0</td>\n",
       "    </tr>\n",
       "    <tr>\n",
       "      <th>1</th>\n",
       "      <td>/organization/tv-communications</td>\n",
       "      <td>&amp;TV Communications</td>\n",
       "      <td>http://enjoyandtv.com</td>\n",
       "      <td>|Games|</td>\n",
       "      <td>Games</td>\n",
       "      <td>40,00,000</td>\n",
       "      <td>operating</td>\n",
       "      <td>USA</td>\n",
       "      <td>CA</td>\n",
       "      <td>Los Angeles</td>\n",
       "      <td>...</td>\n",
       "      <td>0.0</td>\n",
       "      <td>0.0</td>\n",
       "      <td>0.0</td>\n",
       "      <td>0.0</td>\n",
       "      <td>0.0</td>\n",
       "      <td>0.0</td>\n",
       "      <td>0.0</td>\n",
       "      <td>0.0</td>\n",
       "      <td>0.0</td>\n",
       "      <td>0.0</td>\n",
       "    </tr>\n",
       "    <tr>\n",
       "      <th>2</th>\n",
       "      <td>/organization/rock-your-paper</td>\n",
       "      <td>'Rock' Your Paper</td>\n",
       "      <td>http://www.rockyourpaper.org</td>\n",
       "      <td>|Publishing|Education|</td>\n",
       "      <td>Publishing</td>\n",
       "      <td>40,000</td>\n",
       "      <td>operating</td>\n",
       "      <td>EST</td>\n",
       "      <td>NaN</td>\n",
       "      <td>Tallinn</td>\n",
       "      <td>...</td>\n",
       "      <td>0.0</td>\n",
       "      <td>0.0</td>\n",
       "      <td>0.0</td>\n",
       "      <td>0.0</td>\n",
       "      <td>0.0</td>\n",
       "      <td>0.0</td>\n",
       "      <td>0.0</td>\n",
       "      <td>0.0</td>\n",
       "      <td>0.0</td>\n",
       "      <td>0.0</td>\n",
       "    </tr>\n",
       "    <tr>\n",
       "      <th>3</th>\n",
       "      <td>/organization/in-touch-network</td>\n",
       "      <td>(In)Touch Network</td>\n",
       "      <td>http://www.InTouchNetwork.com</td>\n",
       "      <td>|Electronics|Guides|Coffee|Restaurants|Music|i...</td>\n",
       "      <td>Electronics</td>\n",
       "      <td>15,00,000</td>\n",
       "      <td>operating</td>\n",
       "      <td>GBR</td>\n",
       "      <td>NaN</td>\n",
       "      <td>London</td>\n",
       "      <td>...</td>\n",
       "      <td>0.0</td>\n",
       "      <td>0.0</td>\n",
       "      <td>0.0</td>\n",
       "      <td>0.0</td>\n",
       "      <td>0.0</td>\n",
       "      <td>0.0</td>\n",
       "      <td>0.0</td>\n",
       "      <td>0.0</td>\n",
       "      <td>0.0</td>\n",
       "      <td>0.0</td>\n",
       "    </tr>\n",
       "    <tr>\n",
       "      <th>4</th>\n",
       "      <td>/organization/r-ranch-and-mine</td>\n",
       "      <td>-R- Ranch and Mine</td>\n",
       "      <td>NaN</td>\n",
       "      <td>|Tourism|Entertainment|Games|</td>\n",
       "      <td>Tourism</td>\n",
       "      <td>60,000</td>\n",
       "      <td>operating</td>\n",
       "      <td>USA</td>\n",
       "      <td>TX</td>\n",
       "      <td>Dallas</td>\n",
       "      <td>...</td>\n",
       "      <td>0.0</td>\n",
       "      <td>0.0</td>\n",
       "      <td>0.0</td>\n",
       "      <td>0.0</td>\n",
       "      <td>0.0</td>\n",
       "      <td>0.0</td>\n",
       "      <td>0.0</td>\n",
       "      <td>0.0</td>\n",
       "      <td>0.0</td>\n",
       "      <td>0.0</td>\n",
       "    </tr>\n",
       "  </tbody>\n",
       "</table>\n",
       "<p>5 rows × 39 columns</p>\n",
       "</div>"
      ],
      "text/plain": [
       "                         permalink                name  \\\n",
       "0            /organization/waywire            #waywire   \n",
       "1  /organization/tv-communications  &TV Communications   \n",
       "2    /organization/rock-your-paper   'Rock' Your Paper   \n",
       "3   /organization/in-touch-network   (In)Touch Network   \n",
       "4   /organization/r-ranch-and-mine  -R- Ranch and Mine   \n",
       "\n",
       "                    homepage_url  \\\n",
       "0         http://www.waywire.com   \n",
       "1          http://enjoyandtv.com   \n",
       "2   http://www.rockyourpaper.org   \n",
       "3  http://www.InTouchNetwork.com   \n",
       "4                            NaN   \n",
       "\n",
       "                                       category_list        market   \\\n",
       "0         |Entertainment|Politics|Social Media|News|          News    \n",
       "1                                            |Games|         Games    \n",
       "2                             |Publishing|Education|    Publishing    \n",
       "3  |Electronics|Guides|Coffee|Restaurants|Music|i...   Electronics    \n",
       "4                      |Tourism|Entertainment|Games|       Tourism    \n",
       "\n",
       "   funding_total_usd      status country_code state_code         region  ...  \\\n",
       "0          17,50,000    acquired          USA         NY  New York City  ...   \n",
       "1          40,00,000   operating          USA         CA    Los Angeles  ...   \n",
       "2             40,000   operating          EST        NaN        Tallinn  ...   \n",
       "3          15,00,000   operating          GBR        NaN         London  ...   \n",
       "4             60,000   operating          USA         TX         Dallas  ...   \n",
       "\n",
       "  secondary_market  product_crowdfunding round_A round_B round_C  round_D  \\\n",
       "0              0.0                   0.0     0.0     0.0     0.0      0.0   \n",
       "1              0.0                   0.0     0.0     0.0     0.0      0.0   \n",
       "2              0.0                   0.0     0.0     0.0     0.0      0.0   \n",
       "3              0.0                   0.0     0.0     0.0     0.0      0.0   \n",
       "4              0.0                   0.0     0.0     0.0     0.0      0.0   \n",
       "\n",
       "  round_E round_F  round_G  round_H  \n",
       "0     0.0     0.0      0.0      0.0  \n",
       "1     0.0     0.0      0.0      0.0  \n",
       "2     0.0     0.0      0.0      0.0  \n",
       "3     0.0     0.0      0.0      0.0  \n",
       "4     0.0     0.0      0.0      0.0  \n",
       "\n",
       "[5 rows x 39 columns]"
      ]
     },
     "execution_count": 17,
     "metadata": {},
     "output_type": "execute_result"
    }
   ],
   "source": [
    "raw_data = pd.read_csv(\"https://raw.githubusercontent.com/tommygreenwald/DS3000FP/main/investments_VC_original.csv\",\n",
    "                       encoding=\"latin\")\n",
    "raw_data.head(5)"
   ]
  },
  {
   "cell_type": "markdown",
   "metadata": {},
   "source": [
    "### 2.2. Data Analysis\n",
    "\n",
    "The IVs are the 11 feature varibles which include market, country_code, region, funding_rounds, founded_month, founded_quarter, founded_year, seed, venture, round_a, and round_b. These IVs try to predict the DV of total funding. We chose these variables as predictors because they intuitively seemed to be the most directly correlated with total funding for a startup based on our prior knowledge of venture capital funding. This is a supervised ML problem because we are trying to use these labeled feature variables to *predict* a continuous target variable. Thus, the learning task is a regression problem. We are going to use linear regression with both LASSO (L1) and Ridge (L2) regularization. We are also going to try kNN regression as well as an SVM regression. We felt that these 3 algorithms, with different types of regularization included, will allow us to get a full picture of the data and account for any patterns in the distribution of the data that may cause one model or regularization to perform better than the others. "
   ]
  },
  {
   "cell_type": "markdown",
   "metadata": {},
   "source": [
    "<a id=\"3\"></a>\n",
    "<hr style=\"height:2px; border:none; color:black; background-color:black;\">"
   ]
  },
  {
   "cell_type": "markdown",
   "metadata": {},
   "source": [
    "## 3. RESULTS"
   ]
  },
  {
   "cell_type": "markdown",
   "metadata": {},
   "source": [
    "### 3.1. Data Wrangling\n",
    "In this section, you should do the following and explain why you are doing what you are doing. For each, you should include your code in a cell, followed by a sample output. For instance, if you are one-hot encoding one of your variables, you should first describe what it is and why you are doing it. You should then include your code in a cell, and the sample output should be available as well.\n",
    "\n",
    "\n"
   ]
  },
  {
   "cell_type": "code",
   "execution_count": 18,
   "metadata": {},
   "outputs": [],
   "source": [
    "# Perform simple data cleaning (delete extra columns, deal with NA values, etc.)\n",
    "\n",
    "# First, we are going to drop the feature columns that we do want to use in our regression task. To do this,\n",
    "# we will just select the ones that we do want.\n",
    "raw_data = raw_data[[\" market \", \"country_code\", \"region\", \"funding_rounds\", \"founded_month\", \"founded_quarter\",\n",
    "                     \"founded_year\", \"seed\", \"venture\", \"round_A\", \"round_B\", \" funding_total_usd \"]]\n",
    "\n",
    "# Next, we are going to drop the rows where there are null values for any of the feature variables.\n",
    "raw_data.dropna(inplace=True)\n",
    "    \n",
    "# Last, we are going to rename some of the columns with more intuitive feature names.\n",
    "raw_data.rename(columns={\" market \": \"market\", \" funding_total_usd \": \"funding_total\"}, inplace=True)\n",
    "data = raw_data"
   ]
  },
  {
   "cell_type": "code",
   "execution_count": 19,
   "metadata": {},
   "outputs": [
    {
     "data": {
      "text/html": [
       "<div>\n",
       "<style scoped>\n",
       "    .dataframe tbody tr th:only-of-type {\n",
       "        vertical-align: middle;\n",
       "    }\n",
       "\n",
       "    .dataframe tbody tr th {\n",
       "        vertical-align: top;\n",
       "    }\n",
       "\n",
       "    .dataframe thead th {\n",
       "        text-align: right;\n",
       "    }\n",
       "</style>\n",
       "<table border=\"1\" class=\"dataframe\">\n",
       "  <thead>\n",
       "    <tr style=\"text-align: right;\">\n",
       "      <th></th>\n",
       "      <th>market</th>\n",
       "      <th>country_code</th>\n",
       "      <th>region</th>\n",
       "      <th>funding_rounds</th>\n",
       "      <th>founded_month</th>\n",
       "      <th>founded_quarter</th>\n",
       "      <th>founded_year</th>\n",
       "      <th>seed</th>\n",
       "      <th>venture</th>\n",
       "      <th>round_A</th>\n",
       "      <th>round_B</th>\n",
       "      <th>funding_total</th>\n",
       "    </tr>\n",
       "  </thead>\n",
       "  <tbody>\n",
       "    <tr>\n",
       "      <th>0</th>\n",
       "      <td>News</td>\n",
       "      <td>USA</td>\n",
       "      <td>New York City</td>\n",
       "      <td>1.0</td>\n",
       "      <td>2012-06</td>\n",
       "      <td>2012-Q2</td>\n",
       "      <td>2012.0</td>\n",
       "      <td>1750000.0</td>\n",
       "      <td>0.0</td>\n",
       "      <td>0.0</td>\n",
       "      <td>0.0</td>\n",
       "      <td>17,50,000</td>\n",
       "    </tr>\n",
       "    <tr>\n",
       "      <th>2</th>\n",
       "      <td>Publishing</td>\n",
       "      <td>EST</td>\n",
       "      <td>Tallinn</td>\n",
       "      <td>1.0</td>\n",
       "      <td>2012-10</td>\n",
       "      <td>2012-Q4</td>\n",
       "      <td>2012.0</td>\n",
       "      <td>40000.0</td>\n",
       "      <td>0.0</td>\n",
       "      <td>0.0</td>\n",
       "      <td>0.0</td>\n",
       "      <td>40,000</td>\n",
       "    </tr>\n",
       "    <tr>\n",
       "      <th>3</th>\n",
       "      <td>Electronics</td>\n",
       "      <td>GBR</td>\n",
       "      <td>London</td>\n",
       "      <td>1.0</td>\n",
       "      <td>2011-04</td>\n",
       "      <td>2011-Q2</td>\n",
       "      <td>2011.0</td>\n",
       "      <td>1500000.0</td>\n",
       "      <td>0.0</td>\n",
       "      <td>0.0</td>\n",
       "      <td>0.0</td>\n",
       "      <td>15,00,000</td>\n",
       "    </tr>\n",
       "    <tr>\n",
       "      <th>4</th>\n",
       "      <td>Tourism</td>\n",
       "      <td>USA</td>\n",
       "      <td>Dallas</td>\n",
       "      <td>2.0</td>\n",
       "      <td>2014-01</td>\n",
       "      <td>2014-Q1</td>\n",
       "      <td>2014.0</td>\n",
       "      <td>0.0</td>\n",
       "      <td>0.0</td>\n",
       "      <td>0.0</td>\n",
       "      <td>0.0</td>\n",
       "      <td>60,000</td>\n",
       "    </tr>\n",
       "    <tr>\n",
       "      <th>5</th>\n",
       "      <td>Software</td>\n",
       "      <td>USA</td>\n",
       "      <td>Ft. Lauderdale</td>\n",
       "      <td>1.0</td>\n",
       "      <td>2011-10</td>\n",
       "      <td>2011-Q4</td>\n",
       "      <td>2011.0</td>\n",
       "      <td>0.0</td>\n",
       "      <td>7000000.0</td>\n",
       "      <td>0.0</td>\n",
       "      <td>7000000.0</td>\n",
       "      <td>70,00,000</td>\n",
       "    </tr>\n",
       "  </tbody>\n",
       "</table>\n",
       "</div>"
      ],
      "text/plain": [
       "          market country_code          region  funding_rounds founded_month  \\\n",
       "0          News           USA   New York City             1.0       2012-06   \n",
       "2    Publishing           EST         Tallinn             1.0       2012-10   \n",
       "3   Electronics           GBR          London             1.0       2011-04   \n",
       "4       Tourism           USA          Dallas             2.0       2014-01   \n",
       "5      Software           USA  Ft. Lauderdale             1.0       2011-10   \n",
       "\n",
       "  founded_quarter  founded_year       seed    venture  round_A    round_B  \\\n",
       "0         2012-Q2        2012.0  1750000.0        0.0      0.0        0.0   \n",
       "2         2012-Q4        2012.0    40000.0        0.0      0.0        0.0   \n",
       "3         2011-Q2        2011.0  1500000.0        0.0      0.0        0.0   \n",
       "4         2014-Q1        2014.0        0.0        0.0      0.0        0.0   \n",
       "5         2011-Q4        2011.0        0.0  7000000.0      0.0  7000000.0   \n",
       "\n",
       "  funding_total  \n",
       "0    17,50,000   \n",
       "2       40,000   \n",
       "3    15,00,000   \n",
       "4       60,000   \n",
       "5    70,00,000   "
      ]
     },
     "execution_count": 19,
     "metadata": {},
     "output_type": "execute_result"
    }
   ],
   "source": [
    "raw_data.head(5)"
   ]
  },
  {
   "cell_type": "code",
   "execution_count": 20,
   "metadata": {},
   "outputs": [
    {
     "name": "stdout",
     "output_type": "stream",
     "text": [
      "33829\n",
      "28884\n"
     ]
    }
   ],
   "source": [
    "# Perform data wrangling to get your features and target values (e.g., grouping your dataframe by columns, applying functions to format dataframes, etc.)\n",
    "\n",
    "# First, we are going separate out our features and target into different dataframes.\n",
    "features = raw_data.drop(columns=[\"funding_total\"])\n",
    "\n",
    "target = raw_data[\"funding_total\"]\n",
    "\n",
    "# Next, we are going to apply some functions to format various feature columns.\n",
    "# Convert floats to ints\n",
    "int_features = [\"funding_rounds\", \"founded_year\", \"seed\", \"venture\", \"round_A\", \"round_B\"]\n",
    "for feature in int_features:\n",
    "    features[feature] = features[feature].apply(np.int64)\n",
    "\n",
    "# Cut off year from founded month and quarter to get more useful data\n",
    "year_features = [\"founded_month\", \"founded_quarter\"]\n",
    "for feature in year_features:\n",
    "    features[feature] = features[feature].apply(lambda x: x[5:])\n",
    "\n",
    "# Remove unnecessary and weirdly formatted commas from target column\n",
    "target = target.apply(lambda x: x.replace(\",\", \"\"))\n",
    "\n",
    "\n",
    "# Last, we are going to drop the rows where the target variable (funding_total_usd) is not numeric\n",
    "print(len(features))\n",
    "idx_to_drop = []\n",
    "for index in range(len(features)):\n",
    "    try:\n",
    "        int(target.iloc[index])\n",
    "    except:\n",
    "        idx_to_drop.append(index)\n",
    "final_idx = [idx for idx in range(len(features.index)) if idx not in idx_to_drop]\n",
    "features = features.iloc[final_idx]\n",
    "target = target.iloc[final_idx]\n",
    "\n",
    "clean_features = features.copy(deep=True)\n",
    "clean_target = target\n",
    "\n",
    "print(len(features))"
   ]
  },
  {
   "cell_type": "code",
   "execution_count": 21,
   "metadata": {},
   "outputs": [
    {
     "data": {
      "text/html": [
       "<div>\n",
       "<style scoped>\n",
       "    .dataframe tbody tr th:only-of-type {\n",
       "        vertical-align: middle;\n",
       "    }\n",
       "\n",
       "    .dataframe tbody tr th {\n",
       "        vertical-align: top;\n",
       "    }\n",
       "\n",
       "    .dataframe thead th {\n",
       "        text-align: right;\n",
       "    }\n",
       "</style>\n",
       "<table border=\"1\" class=\"dataframe\">\n",
       "  <thead>\n",
       "    <tr style=\"text-align: right;\">\n",
       "      <th></th>\n",
       "      <th>market</th>\n",
       "      <th>country_code</th>\n",
       "      <th>region</th>\n",
       "      <th>funding_rounds</th>\n",
       "      <th>founded_month</th>\n",
       "      <th>founded_quarter</th>\n",
       "      <th>founded_year</th>\n",
       "      <th>seed</th>\n",
       "      <th>venture</th>\n",
       "      <th>round_A</th>\n",
       "      <th>round_B</th>\n",
       "    </tr>\n",
       "  </thead>\n",
       "  <tbody>\n",
       "    <tr>\n",
       "      <th>0</th>\n",
       "      <td>News</td>\n",
       "      <td>USA</td>\n",
       "      <td>New York City</td>\n",
       "      <td>1</td>\n",
       "      <td>06</td>\n",
       "      <td>Q2</td>\n",
       "      <td>2012</td>\n",
       "      <td>1750000</td>\n",
       "      <td>0</td>\n",
       "      <td>0</td>\n",
       "      <td>0</td>\n",
       "    </tr>\n",
       "    <tr>\n",
       "      <th>2</th>\n",
       "      <td>Publishing</td>\n",
       "      <td>EST</td>\n",
       "      <td>Tallinn</td>\n",
       "      <td>1</td>\n",
       "      <td>10</td>\n",
       "      <td>Q4</td>\n",
       "      <td>2012</td>\n",
       "      <td>40000</td>\n",
       "      <td>0</td>\n",
       "      <td>0</td>\n",
       "      <td>0</td>\n",
       "    </tr>\n",
       "    <tr>\n",
       "      <th>3</th>\n",
       "      <td>Electronics</td>\n",
       "      <td>GBR</td>\n",
       "      <td>London</td>\n",
       "      <td>1</td>\n",
       "      <td>04</td>\n",
       "      <td>Q2</td>\n",
       "      <td>2011</td>\n",
       "      <td>1500000</td>\n",
       "      <td>0</td>\n",
       "      <td>0</td>\n",
       "      <td>0</td>\n",
       "    </tr>\n",
       "    <tr>\n",
       "      <th>4</th>\n",
       "      <td>Tourism</td>\n",
       "      <td>USA</td>\n",
       "      <td>Dallas</td>\n",
       "      <td>2</td>\n",
       "      <td>01</td>\n",
       "      <td>Q1</td>\n",
       "      <td>2014</td>\n",
       "      <td>0</td>\n",
       "      <td>0</td>\n",
       "      <td>0</td>\n",
       "      <td>0</td>\n",
       "    </tr>\n",
       "    <tr>\n",
       "      <th>5</th>\n",
       "      <td>Software</td>\n",
       "      <td>USA</td>\n",
       "      <td>Ft. Lauderdale</td>\n",
       "      <td>1</td>\n",
       "      <td>10</td>\n",
       "      <td>Q4</td>\n",
       "      <td>2011</td>\n",
       "      <td>0</td>\n",
       "      <td>7000000</td>\n",
       "      <td>0</td>\n",
       "      <td>7000000</td>\n",
       "    </tr>\n",
       "  </tbody>\n",
       "</table>\n",
       "</div>"
      ],
      "text/plain": [
       "          market country_code          region  funding_rounds founded_month  \\\n",
       "0          News           USA   New York City               1            06   \n",
       "2    Publishing           EST         Tallinn               1            10   \n",
       "3   Electronics           GBR          London               1            04   \n",
       "4       Tourism           USA          Dallas               2            01   \n",
       "5      Software           USA  Ft. Lauderdale               1            10   \n",
       "\n",
       "  founded_quarter  founded_year     seed  venture  round_A  round_B  \n",
       "0              Q2          2012  1750000        0        0        0  \n",
       "2              Q4          2012    40000        0        0        0  \n",
       "3              Q2          2011  1500000        0        0        0  \n",
       "4              Q1          2014        0        0        0        0  \n",
       "5              Q4          2011        0  7000000        0  7000000  "
      ]
     },
     "execution_count": 21,
     "metadata": {},
     "output_type": "execute_result"
    }
   ],
   "source": [
    "features.head(5)"
   ]
  },
  {
   "cell_type": "code",
   "execution_count": 22,
   "metadata": {},
   "outputs": [
    {
     "data": {
      "text/plain": [
       "0     1750000 \n",
       "2       40000 \n",
       "3     1500000 \n",
       "4       60000 \n",
       "5     7000000 \n",
       "Name: funding_total, dtype: object"
      ]
     },
     "execution_count": 22,
     "metadata": {},
     "output_type": "execute_result"
    }
   ],
   "source": [
    "target.head(5)"
   ]
  },
  {
   "cell_type": "code",
   "execution_count": 23,
   "metadata": {},
   "outputs": [
    {
     "name": "stdout",
     "output_type": "stream",
     "text": [
      "       market  country_code  region  funding_rounds  founded_month  \\\n",
      "0         430           102     604               0              5   \n",
      "2         505            32     824               0              9   \n",
      "3         195            35     484               0              3   \n",
      "4         635           102     220               1              0   \n",
      "5         590           102     299               0              9   \n",
      "...       ...           ...     ...             ...            ...   \n",
      "49430      53            68     517               3              0   \n",
      "49432      53             4     879               0              0   \n",
      "49433     189            35     484               0              0   \n",
      "49435     681            41     779               4              4   \n",
      "49437     216           102     604               3              0   \n",
      "\n",
      "       founded_quarter  founded_year     seed   venture   round_A   round_B  \n",
      "0                    1            95  1750000         0         0         0  \n",
      "2                    3            95    40000         0         0         0  \n",
      "3                    1            94  1500000         0         0         0  \n",
      "4                    0            97        0         0         0         0  \n",
      "5                    3            94        0   7000000         0   7000000  \n",
      "...                ...           ...      ...       ...       ...       ...  \n",
      "49430                0            77        0   7991547   7991547         0  \n",
      "49432                0            90        0   2686600   2686600         0  \n",
      "49433                0            96   320000         0         0         0  \n",
      "49435                1            95    71525         0         0         0  \n",
      "49437                0            82        0  28000000  16000000  10000000  \n",
      "\n",
      "[28884 rows x 11 columns]\n"
     ]
    }
   ],
   "source": [
    "# * Preprocess your variables (e.g., scaling/transforming feature variables to normalize them)\n",
    "\n",
    "# For the numerical features, we are going to use a standard scaler to standardize the data. This will make the\n",
    "# mean equivalent to 0 and the standard deviation to 1. For the categorical features, we are going to use a label\n",
    "# encoder to encode the target labels with values between 0 and number of classes. However, a standard scaler must\n",
    "# be applied on the training and testing data separately or else the results will not be accurate in context of the\n",
    "# data. The mean and standard deviation need to be for only the data that is contained after the split. Therefore,\n",
    "# we will split into testing and training sets after the label encoder is applied and before the standard scaler.\n",
    "\n",
    "columns_to_encode = [\"market\", \"country_code\", \"region\", \"funding_rounds\", \"founded_month\",\n",
    "                        \"founded_quarter\", \"founded_year\"]\n",
    "columns_to_scale = [\"seed\", \"venture\", \"round_A\", \"round_B\"]\n",
    "\n",
    "# Encode all data\n",
    "le = LabelEncoder()\n",
    "features[columns_to_encode] = features[columns_to_encode].apply(le.fit_transform)\n",
    "print(features)\n",
    "\n",
    "# Split into testing and training sets\n",
    "X_train, X_test, y_train, y_test = train_test_split(features, target)\n",
    "\n",
    "# Scale all data based on testing and training\n",
    "scaler = StandardScaler().fit(X_train[columns_to_scale])\n",
    "X_train_scaled = np.concatenate([scaler.transform(X_train[columns_to_scale]), X_train[columns_to_encode]], axis=1)\n",
    "X_test_scaled = np.concatenate([scaler.transform(X_test[columns_to_scale]), X_test[columns_to_encode]], axis=1)"
   ]
  },
  {
   "cell_type": "code",
   "execution_count": 24,
   "metadata": {},
   "outputs": [
    {
     "data": {
      "text/plain": [
       "array([[-2.16299115e-01, -2.87906055e-01, -2.77593192e-01,\n",
       "        -2.37240835e-01,  2.81000000e+02,  1.30000000e+01,\n",
       "         5.80000000e+01,  0.00000000e+00,  0.00000000e+00,\n",
       "         0.00000000e+00,  9.00000000e+01],\n",
       "       [ 1.51918405e+00, -2.87906055e-01, -2.77593192e-01,\n",
       "        -2.37240835e-01,  2.38000000e+02,  1.02000000e+02,\n",
       "         7.18000000e+02,  2.00000000e+00,  7.00000000e+00,\n",
       "         2.00000000e+00,  9.40000000e+01],\n",
       "       [-2.16299115e-01, -2.87906055e-01, -2.77593192e-01,\n",
       "        -2.37240835e-01,  1.80000000e+01,  1.02000000e+02,\n",
       "         7.18000000e+02,  1.00000000e+00,  2.00000000e+00,\n",
       "         0.00000000e+00,  9.50000000e+01]])"
      ]
     },
     "execution_count": 24,
     "metadata": {},
     "output_type": "execute_result"
    }
   ],
   "source": [
    "X_train_scaled[:3]"
   ]
  },
  {
   "cell_type": "code",
   "execution_count": 25,
   "metadata": {},
   "outputs": [
    {
     "data": {
      "text/plain": [
       "array([[-3.24766813e-01, -2.52144084e-01, -2.77593192e-01,\n",
       "        -2.37240835e-01,  2.84000000e+02,  1.02000000e+02,\n",
       "         3.70000000e+02,  2.00000000e+00,  0.00000000e+00,\n",
       "         0.00000000e+00,  8.50000000e+01],\n",
       "       [-3.24766813e-01,  1.43936614e-01,  1.37250809e+00,\n",
       "         4.28627458e-01,  8.40000000e+01,  1.02000000e+02,\n",
       "         4.03000000e+02,  1.00000000e+00,  0.00000000e+00,\n",
       "         0.00000000e+00,  9.40000000e+01],\n",
       "       [-3.24766813e-01, -2.87906055e-01, -2.77593192e-01,\n",
       "        -2.37240835e-01,  5.30000000e+01,  1.02000000e+02,\n",
       "         7.18000000e+02,  0.00000000e+00,  0.00000000e+00,\n",
       "         0.00000000e+00,  9.10000000e+01]])"
      ]
     },
     "execution_count": 25,
     "metadata": {},
     "output_type": "execute_result"
    }
   ],
   "source": [
    "X_test_scaled[:3]"
   ]
  },
  {
   "cell_type": "code",
   "execution_count": 26,
   "metadata": {},
   "outputs": [
    {
     "name": "stdout",
     "output_type": "stream",
     "text": [
      "country_code       1\n",
      "founded_month      1\n",
      "founded_year       1\n",
      "seed               1\n",
      "venture            1\n",
      "round_B            1\n",
      "founded_quarter    2\n",
      "funding_rounds     3\n",
      "market             4\n",
      "round_A            5\n",
      "region             6\n",
      "dtype: int64\n",
      "['country_code', 'founded_month', 'founded_year', 'seed', 'venture', 'round_B']\n"
     ]
    }
   ],
   "source": [
    "# * Use one feature selection technique to select a subset of your original features\n",
    "\n",
    "# Construct a RFE with a Decision Tree Regressor to get the top 6 most important features to use on other models\n",
    "rfe = RFE(estimator=DecisionTreeRegressor(), n_features_to_select=6)\n",
    "rfe.fit(X_train_scaled, y_train)\n",
    "print(pd.Series(rfe.ranking_, index = features.columns).sort_values())\n",
    "top = []\n",
    "for index in range(len(rfe.get_support())):\n",
    "    if(rfe.get_support()[index]):\n",
    "        top.append(features.columns[index])\n",
    "print(top)"
   ]
  },
  {
   "cell_type": "markdown",
   "metadata": {},
   "source": [
    "### 3.2. Data Exploration\n"
   ]
  },
  {
   "cell_type": "code",
   "execution_count": 27,
   "metadata": {
    "scrolled": true
   },
   "outputs": [
    {
     "data": {
      "text/plain": [
       "(array([ 0,  1,  2,  3,  4,  5,  6,  7,  8,  9, 10, 11, 12, 13, 14, 15, 16,\n",
       "        17, 18, 19, 20, 21, 22, 23, 24, 25, 26, 27, 28, 29, 30, 31, 32, 33,\n",
       "        34, 35, 36, 37, 38, 39, 40, 41, 42, 43, 44, 45, 46, 47, 48, 49, 50,\n",
       "        51, 52, 53, 54, 55, 56, 57, 58, 59, 60, 61, 62, 63]),\n",
       " <a list of 64 Text major ticklabel objects>)"
      ]
     },
     "execution_count": 27,
     "metadata": {},
     "output_type": "execute_result"
    },
    {
     "data": {
      "image/png": "[encoded data removed]",
      "text/plain": [
       "<Figure size 1440x432 with 1 Axes>"
      ]
     },
     "metadata": {},
     "output_type": "display_data"
    }
   ],
   "source": [
    "# Country x Funding Total Sum  \n",
    "import matplotlib.pyplot as plt\n",
    "import seaborn as sns\n",
    "sns.set_style('whitegrid')\n",
    "\n",
    "\n",
    "\n",
    "clean_features.head(5)\n",
    "\n",
    "\n",
    "clean = clean_features\n",
    "clean[\"funding_total\"] = clean_target\n",
    "clean['funding_total'] = pd.to_numeric(clean['funding_total'])\n",
    "sample_df = clean.sample(frac=0.1, random_state=3000)\n",
    "\n",
    "total = sample_df.groupby(\"country_code\").sum().reset_index()\n",
    "\n",
    "plt.rcParams[\"figure.figsize\"] = (20,6)\n",
    "plot = sns.barplot(x=\"country_code\", y=\"funding_total\", data=total\n",
    "                  ).set_title(\"Funding Total By Country\")\n",
    "plt.ylabel(\"Funding Total Amount\")\n",
    "plt.xlabel(\"Country\")\n",
    "\n",
    "plt.xticks(rotation=60)\n",
    "\n",
    "\n"
   ]
  },
  {
   "cell_type": "markdown",
   "metadata": {},
   "source": [
    "#### Funding Total By Country \n",
    "In the section above, one of the key features selected in predicting the target variable was `country_code`. So, we grouped our sample data set by country_code (location) and summed up the funding_total amounts. Looking above we can see that start-ups located in the USA earned a lot more funding than countries any where else. This can be due to a high concentration of US based start-ups in the data set. "
   ]
  },
  {
   "cell_type": "code",
   "execution_count": 28,
   "metadata": {},
   "outputs": [
    {
     "data": {
      "image/png": "[encoded data removed]",
      "text/plain": [
       "<Figure size 360x360 with 1 Axes>"
      ]
     },
     "metadata": {},
     "output_type": "display_data"
    }
   ],
   "source": [
    "# founded year  x total funding: \n",
    "sample_df = clean.sample(frac=0.01, random_state=3000)\n",
    "sns.catplot(data=sample_df, x=\"founded_year\", y=\"funding_total\", hue=\"founded_year\", palette='cool', legend=False)\n",
    "\n",
    "plt.xticks(rotation=90)\n",
    "plt.title(\"Funding Total by Founded Year\")\n",
    "plt.ylabel(\"Funding Total Amount\")\n",
    "plt.xlabel(\"Founded Year\")\n",
    "plt.show()"
   ]
  },
  {
   "cell_type": "markdown",
   "metadata": {},
   "source": [
    "#### Funding Total by Year Founded \n",
    "One of the other key features selected by `founded_year`. We made a categorical scatter plot to see if there were any relationships between the year a company was founded and how much funding they earned. A question you can answer by looking at this graph is \"Does the year a company was founded has a direct impact on how much funding they earned? Would an older company amass more funding simply because they have been around longer?\" The answer to both of those questions is No. Looking at this scatter plot we can see that there is no real positive nor negative correlation between the age of a start up and how much funding it can raise. "
   ]
  },
  {
   "cell_type": "code",
   "execution_count": 29,
   "metadata": {},
   "outputs": [
    {
     "data": {
      "text/plain": [
       "Text(0.5, 0, 'Seed')"
      ]
     },
     "execution_count": 29,
     "metadata": {},
     "output_type": "execute_result"
    },
    {
     "data": {
      "image/png": "[encoded data removed]",
      "text/plain": [
       "<Figure size 1440x432 with 1 Axes>"
      ]
     },
     "metadata": {},
     "output_type": "display_data"
    }
   ],
   "source": [
    "\n",
    "sample_df = clean.sample(frac=0.1, random_state=3000)\n",
    "sns.regplot(x=\"seed\", y=\"funding_total\", data=clean, fit_reg=True)\n",
    "plt.title(\"Funding Total by Seed\")\n",
    "plt.ylabel(\"Funding Total Amount\")\n",
    "plt.xlabel(\"Seed\")\n"
   ]
  },
  {
   "cell_type": "markdown",
   "metadata": {},
   "source": [
    "#### Funding Total by Seed\n",
    "The feature `seed` (the amount of funding earned in the seed stage) was chosen as a key feature. In the above graph we have anotehr scatter plot where each point represents a start-up's seed funding amount and their total amount of funding in the end. In addition to this there is line of best fit. First, looking at the points we can see that most of them are at or near 0 for the amount of funding they earned during the seed stage. We can also see that the line of best fit has a slope of almost 0. This means that the amount of seed statge funding a start-up has earned does not have much of an affect on the total funding it will earn in the future. "
   ]
  },
  {
   "cell_type": "code",
   "execution_count": 37,
   "metadata": {},
   "outputs": [
    {
     "data": {
      "text/plain": [
       "(array([ 0,  1,  2,  3,  4,  5,  6,  7,  8,  9, 10, 11, 12, 13, 14, 15, 16,\n",
       "        17, 18]),\n",
       " <a list of 19 Text major ticklabel objects>)"
      ]
     },
     "execution_count": 37,
     "metadata": {},
     "output_type": "execute_result"
    },
    {
     "data": {
      "image/png": "[encoded data removed]",
      "text/plain": [
       "<Figure size 360x360 with 1 Axes>"
      ]
     },
     "metadata": {},
     "output_type": "display_data"
    }
   ],
   "source": [
    "import seaborn as sns\n",
    "import matplotlib.pyplot as plt\n",
    "\n",
    "sample_df = clean.sample(frac=0.001, random_state=3000)\n",
    "\n",
    "sns.catplot(x = \"market\", y = \"funding_total\", data = sample_df, hue = \"market\")\n",
    "plt.title(\"Funding Total by Market\")\n",
    "plt.ylabel(\"Funding Total Amount\")\n",
    "plt.xlabel(\"Market\")\n",
    "plt.xticks(rotation=90)"
   ]
  },
  {
   "cell_type": "markdown",
   "metadata": {},
   "source": [
    "#### Market by Funding Total\n",
    "Lastly, while `market` was not chosen as a key feature we wanted to see how start ups in different market performed funding wise. Looking at this graph, it does not seem that the market had that much of an impact on a start up's funding total within this sample. But, it seems that start ups in the Gaming market may perform better than others when it comes to gaining funding. We would need more data to see if that claim were true. "
   ]
  },
  {
   "cell_type": "markdown",
   "metadata": {},
   "source": [
    "### 3.3. Model Construction"
   ]
  },
  {
   "cell_type": "code",
   "execution_count": 31,
   "metadata": {},
   "outputs": [
    {
     "name": "stdout",
     "output_type": "stream",
     "text": [
      "Linear Regression\n",
      "Training MSE:  4.444072322058613e+16\n",
      "Training R2 score:  0.03867682772078629\n",
      "Testing MSE:  7986261396380623.0\n",
      "Testing R2 score:  0.17028475642103158\n",
      "--------------------------------------------------\n",
      "Lasso\n",
      "Training MSE:  4.444072322058618e+16\n",
      "Training R2 score:  0.03867682772078518\n",
      "Testing MSE:  7986261390798594.0\n",
      "Testing R2 score:  0.17028475700096424\n",
      "--------------------------------------------------\n",
      "Ridge\n",
      "Training MSE:  4.444072323933855e+16\n",
      "Training R2 score:  0.03867682731514155\n",
      "Testing MSE:  7986280195416138.0\n",
      "Testing R2 score:  0.17028280333615786\n",
      "--------------------------------------------------\n",
      "Decision Tree Regression\n",
      "Training MSE:  4347142536018.9507\n",
      "Training R2 score:  0.999905964427439\n",
      "Testing MSE:  1.208367799300093e+16\n",
      "Testing R2 score:  -0.2554074217801561\n",
      "--------------------------------------------------\n",
      "Linear SVR\n",
      "Training MSE:  4.646548655344592e+16\n",
      "Training R2 score:  -0.005122007428632891\n",
      "Testing MSE:  9831166308497272.0\n",
      "Testing R2 score:  -0.02138762350265022\n",
      "--------------------------------------------------\n"
     ]
    }
   ],
   "source": [
    "from sklearn.linear_model import LinearRegression, Lasso, Ridge\n",
    "from sklearn.tree import DecisionTreeRegressor\n",
    "from sklearn.svm import LinearSVR\n",
    "from sklearn.neighbors import KNeighborsRegressor\n",
    "\n",
    "from sklearn.metrics import mean_squared_error, r2_score\n",
    "\n",
    "models = {\"Linear Regression\": LinearRegression(), \"Lasso\": Lasso(), \"Ridge\": Ridge(), \n",
    "          \"Decision Tree Regression\": DecisionTreeRegressor(), \"Linear SVR\": LinearSVR(max_iter=10000)}\n",
    "\n",
    "for model in models:\n",
    "    print(model)\n",
    "    models[model].fit(X_train_scaled, y_train)\n",
    "    y_pred = models[model].predict(X_train_scaled)\n",
    "    y_pred_test = models[model].predict(X_test_scaled)\n",
    "    print(\"Training MSE: \", mean_squared_error(y_train, y_pred))\n",
    "    print(\"Training R2 score: \", r2_score(y_train, y_pred))\n",
    "    print(\"Testing MSE: \", mean_squared_error(y_test, y_pred_test))\n",
    "    print(\"Testing R2 score: \", r2_score(y_test, y_pred_test))\n",
    "    print(\"-\"*50)\n",
    "    "
   ]
  },
  {
   "cell_type": "markdown",
   "metadata": {},
   "source": [
    "### 3.4. Model Evaluation"
   ]
  },
  {
   "cell_type": "markdown",
   "metadata": {},
   "source": [
    "For the 5 models we trained, the MSE and R2 score for both the training and testing set was returned. This allowed us to get an idea of how well our models were fitting the data as well as how they were performing in predicting total funding. For linear regression (without regularization), Lasso (L1 regularization), and Ridge (L2 regularization), the results were almost identical, meaning the regularization had little impact on the model performance. On average, the linear regresssion models seemed to perform very poorly on the training data given their MSE and R2 score, and only slightly better on the testing data. It seems the default version of these models is not very fit for our data and prediction task. \n",
    "\n",
    "For the decision tree regression, it performed extremely well on the training data, acheiving an R2 score of almost 1.0 (perfect). However, it performed extremely poorly on the testing data, indicating it is severely overfitting the training data and definitely needs to be tuned in section 3.5. We suspect that fiddling with the max depth will help prevent the severe overfitting. For the linear support vector regression, there was extremely poor performance on both the training and testing data given the MSE and R2 score. This indicates the model may just not be fit to our data very well at all, or needs to be drastically tuned in section 3.5. Based on the hypothesis test we conducted and the results for our preliminary models, we fail to reject the null hypothesis that the 11 feature variables will NOT have an effect on predicting the total funding amount a startup raises. Hopefully after tuning our model hyperparameters in section 3.5, we may be able to reject the null hypothesis. "
   ]
  },
  {
   "cell_type": "markdown",
   "metadata": {},
   "source": [
    "### 3.5. Model Optimization\n",
    "\n"
   ]
  },
  {
   "cell_type": "code",
   "execution_count": 32,
   "metadata": {},
   "outputs": [],
   "source": [
    "from sklearn.model_selection import GridSearchCV\n",
    "\n",
    "params = {\"Linear Regression\": {}, \"Lasso\": {\"alpha\": [0.1, 1.0, 10.0, 100.0]}, \n",
    "          \"Ridge\": {\"alpha\": [0.1, 1.0, 10.0, 100.0]}, \n",
    "          \"Decision Tree Regression\": {\"max_depth\": [2, 6, 10, 20]},\n",
    "          \"Linear SVR\": {\"C\": [0.1, 0.5, 1.0, 5.0, 10.0], \"tol\": [0.01, 0.001, 0.0001, 0.00001]}}\n",
    "gscvs = []\n",
    "for model in models:\n",
    "    gscv = GridSearchCV(models[model], params[model])\n",
    "    gscv.fit(X_train_scaled, y_train)\n",
    "    gscvs.append(gscv)"
   ]
  },
  {
   "cell_type": "markdown",
   "metadata": {},
   "source": [
    "Based on the results of section 3.3, we knew that we had to tune our model parameters to try to acheive lower MSE and higher R2 scores. For the basic linear regression there was nothing to tune, but for both Lasso (L1) and Ridge (L2) regularization we knew that tuning the alpha value would help to reduce variance in the estimates and hopefully provide better predictions. For the decision tree regression, we knew that tuning the max depth would hopefully prevent overfitting the training data and provide better perfromance on the testing data. For the linear support vector regression, we saw the worst performance out of any of the models. Therefore, we knew we needed to tune multiple parameters, and both the C value and tolerance are very important in determining the strength of the model. "
   ]
  },
  {
   "cell_type": "markdown",
   "metadata": {},
   "source": [
    "### 3.6. Model Testing"
   ]
  },
  {
   "cell_type": "code",
   "execution_count": 33,
   "metadata": {},
   "outputs": [
    {
     "name": "stdout",
     "output_type": "stream",
     "text": [
      "LinearRegression()\n",
      "Testing MSE:  7986261396380623.0\n",
      "Testing R2 score:  0.17028475642103158\n",
      "Best parameters:  {}\n",
      "--------------------------------------------------\n",
      "Lasso()\n",
      "Testing MSE:  7986260838760931.0\n",
      "Testing R2 score:  0.17028481435371567\n",
      "Best parameters:  {'alpha': 100.0}\n",
      "--------------------------------------------------\n",
      "Ridge()\n",
      "Testing MSE:  7988369506969933.0\n",
      "Testing R2 score:  0.17006573886021226\n",
      "Best parameters:  {'alpha': 100.0}\n",
      "--------------------------------------------------\n",
      "DecisionTreeRegressor()\n",
      "Testing MSE:  8315749948758996.0\n",
      "Testing R2 score:  0.13605326049015698\n",
      "Best parameters:  {'max_depth': 2}\n",
      "--------------------------------------------------\n",
      "LinearSVR(max_iter=10000)\n",
      "Testing MSE:  9813678477701400.0\n",
      "Testing R2 score:  -0.019570763388975454\n",
      "Best parameters:  {'C': 10.0, 'tol': 1e-05}\n",
      "--------------------------------------------------\n"
     ]
    }
   ],
   "source": [
    "for gscv in gscvs:\n",
    "    print(gscv.estimator)\n",
    "    y_pred = gscv.predict(X_train_scaled)\n",
    "    y_pred_test = gscv.predict(X_test_scaled)\n",
    "    print(\"Testing MSE: \", mean_squared_error(y_test, y_pred_test))\n",
    "    print(\"Testing R2 score: \", r2_score(y_test, y_pred_test))\n",
    "    print(\"Best parameters: \", gscv.best_params_)\n",
    "    print(\"-\"*50)"
   ]
  },
  {
   "cell_type": "markdown",
   "metadata": {},
   "source": [
    "<a id=\"4\"></a>\n",
    "<hr style=\"height:2px; border:none; color:black; background-color:black;\">"
   ]
  },
  {
   "cell_type": "markdown",
   "metadata": {},
   "source": [
    "## 4. DISCUSSION"
   ]
  },
  {
   "cell_type": "markdown",
   "metadata": {},
   "source": [
    "We compared linear regression (normal, Lasso (L1 regularization), Ridge(L2 regularization)), decision tree regression, and linear support vector regression. Even after hyperparameter tuning in section 3.5, linear support vectors revealed the worst performance, indicating they are just not fit for our data and prediction task. Linear regression revealed pretty poor performance even after tuning, fitting very poorly to the training data and having low R2 scores for both training and testing data. The best performing model by far was the decision tree regression, which after tuning was able to maintain high fitting to the training data (acheiving an R2 score of 0.90+) and a decent but not great 0.30 R2 score on the testing data. This indicates that the decision tree regressor should be used for our predictive model, but even still the results are not that promising. Even with trying multiple models and hyperparameter tuning, we were not able to achieve a decent R2 score on the training/testing data. Thus, we conclude that you cannot use the features in our dataset to predict the outcome variable we identified. We think that the features are just not relevant enough to the outcome variable, and there is also simply not enough of them. In order to have a successful predictive model, we think that we would need more, and also more relevant features. \n",
    "\n",
    "At the beginning of our exploration we asked the question, can we using linear regression and our chose feature metrics to make a prediction about funding? Based on our findings, we determined that the linear regression model performed the worst our of all the regression models that we tested. Thus, we concluded that using the linear regression model on the 11 feature metrics will not allow us to make a prediction on funding.  Additionally, we asked the question, can we determine whether Ridge or Lasso regularization will result in a better linear regression model? After creating a testing both of these models, we found that both Ridge and Lasso produced almost identical performance metrics, both of which performing very poorly on both our training and testing datasets. Therefore, we are not able to determine whether Ridge or Lasso regularization resulted in a better linear regression model. \n",
    "\n",
    "Our original hypothesis for this project was that the 11 feature variables will have an effect on predicting the total funding amount a startup raises. However, based on the results of our hypothesis testing and the outcome of the MSE and R2 values even after tuning, there were no significant differences between the means of each of our variables. Therefore, we must reject our hypothesis and do not recommend predicting the total funding of of a startup based on the market, country, region, number of funding rounds, founded quarter, founded month, founded year, seed value, venture value, round A funding and round B funding.\n",
    "\n",
    "To conclude we want to highlight the need for more data, with even more features, to create models that can predict the amount a start up will earn. There are many factors that go into a start up, and even more that go into a successful one. Unfortunatley, the data set we chose did not have all the data we needed to create well perfoming models. But, we still think that this is an important project, and a solution similar to ours can help VCs, investors, and even start ups, predict the worth of a company making the valuation process a lot easier. "
   ]
  },
  {
   "cell_type": "markdown",
   "metadata": {},
   "source": [
    "<a id=\"5\"></a>\n",
    "<hr style=\"height:2px; border:none; color:black; background-color:black;\">"
   ]
  },
  {
   "cell_type": "markdown",
   "metadata": {},
   "source": [
    "### CONTRIBUTIONS\n",
    "* Describe each team member's contributions to the report (who did what in each section)\n",
    "* Remember this is a team effort!\n",
    "* Each member of your team will provide peer evaluation of other team members. Your final grade on the project will be based on those peer evaluations. A survey will be shared after the deadline for this deliverable."
   ]
  },
  {
   "cell_type": "markdown",
   "metadata": {},
   "source": [
    "Thomas Greewald : Did most of the work with cleaning and encoding our data, model training, and model testing \n",
    "\n",
    "Kelley Phippen : Handled analyzing our results for the discussion in section 4. She also created the presentation for our project. \n",
    "\n",
    "Breanna Madison : Handled the data visualizations in the Data Exploration section\n",
    "\n",
    "But, we did most of it while together in a zoom call.\n"
   ]
  },
  {
   "cell_type": "code",
   "execution_count": null,
   "metadata": {},
   "outputs": [],
   "source": []
  }
 ],
 "metadata": {
  "kernelspec": {
   "display_name": "Python 3",
   "language": "python",
   "name": "python3"
  },
  "language_info": {
   "codemirror_mode": {
    "name": "ipython",
    "version": 3
   },
   "file_extension": ".py",
   "mimetype": "text/x-python",
   "name": "python",
   "nbconvert_exporter": "python",
   "pygments_lexer": "ipython3",
   "version": "3.8.3"
  }
 },
 "nbformat": 4,
 "nbformat_minor": 2
}
