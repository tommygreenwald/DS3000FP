{
 "cells": [
  {
   "cell_type": "code",
   "execution_count": 1,
   "metadata": {},
   "outputs": [
    {
     "name": "stdout",
     "output_type": "stream",
     "text": [
      "49438\n",
      "33829\n"
     ]
    }
   ],
   "source": [
    "import numpy as np\n",
    "import pandas as pd\n",
    "from sklearn import linear_model\n",
    "from sklearn.preprocessing import OneHotEncoder\n",
    "from sklearn.preprocessing import StandardScaler\n",
    "from sklearn.metrics import mean_squared_error\n",
    "\n",
    "# no scientific notation in numpy or pandas!!!\n",
    "np.set_printoptions(suppress=True)\n",
    "pd.reset_option('display.float_format')\n",
    "\n",
    "# import train and test sets\n",
    "train = pd.read_csv(\"investments_VC.csv\", encoding=\"latin\")\n",
    "print(len(train))\n",
    "train.dropna(inplace=True)\n",
    "print(len(train))\n",
    "\n",
    "df_train = pd.DataFrame(train)\n",
    "columns = train.columns\n",
    "\n",
    "# enc = OneHotEncoder()\n",
    "# print(enc.fit_transform(train))\n",
    "\n",
    "# scale the train and test sets\n",
    "# scaler = StandardScaler()\n",
    "# scaled_train = scaler.fit_transform(train)\n",
    "\n",
    "# df_train = pd.DataFrame(scaled_train, columns = columns_train)\n",
    "# target_train = pd.DataFrame(df_train.price, columns = [\"funding_total_usd\"])\n",
    "# df_train.drop(\"funding_total_usd\", axis=1, inplace=True)\n",
    "\n",
    "# lm = linear_model.LinearRegression()\n",
    "# x_train = df_train\n",
    "# y_train = target_train\n",
    "# model = lm.fit(x_train, y_train)\n",
    "# y_pred_train = lm.predict(x_train)\n",
    "# RMSE_train = np.sqrt(mean_squared_error(y_train, y_pred_train))\n",
    "\n",
    "# print(RMSE_train)\n",
    "\n",
    "# d = {}\n",
    "# for i in range(17):\n",
    "#     d[x_train.columns[i]] = model.coef_[0][i]\n",
    "\n",
    "# # top correlated features\n",
    "# print(sorted(d.items(), key=lambda x:x[1]))"
   ]
  },
  {
   "cell_type": "code",
   "execution_count": null,
   "metadata": {},
   "outputs": [],
   "source": []
  }
 ],
 "metadata": {
  "kernelspec": {
   "display_name": "Python 3",
   "language": "python",
   "name": "python3"
  },
  "language_info": {
   "codemirror_mode": {
    "name": "ipython",
    "version": 3
   },
   "file_extension": ".py",
   "mimetype": "text/x-python",
   "name": "python",
   "nbconvert_exporter": "python",
   "pygments_lexer": "ipython3",
   "version": "3.7.7"
  }
 },
 "nbformat": 4,
 "nbformat_minor": 4
}
